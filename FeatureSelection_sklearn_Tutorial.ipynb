{
 "cells": [
  {
   "cell_type": "markdown",
   "id": "237d95b0-6f00-450a-9858-96ca0ed49ab0",
   "metadata": {},
   "source": [
    "# Feature Selection - Scikit-Learn Tutorial"
   ]
  },
  {
   "attachments": {},
   "cell_type": "markdown",
   "id": "6f1288db-9b80-40fc-9a05-fed4fa8a79e8",
   "metadata": {},
   "source": [
    "### Author: Cindy Lu\n",
    "**March 23, 2023**"
   ]
  },
  {
   "cell_type": "markdown",
   "id": "5e3e450b-6706-4ea0-8e7e-5a516d260218",
   "metadata": {},
   "source": [
    "## Why Feature Selection?"
   ]
  },
  {
   "cell_type": "markdown",
   "id": "c03fb4b7-0108-462d-8627-0ba0c1fa8e52",
   "metadata": {},
   "source": [
    "While a predictive model's performance tends to increase with more input variables, it reaches a point where noise is introduced and prolongs unncessary processing time with too many variables. Selecting only the features that are effectively contributing to the preditive power may enhance a model's performance and efficiency. Feature selection is a method to reduce the variables by using certain criteria to select variables that are most useful to predict the target by our model. In this tutorial, we will explore different feature selection methods and their applications using relevant tools in the scikit-learn package."
   ]
  },
  {
   "cell_type": "markdown",
   "id": "089e5470-84f7-4f58-87fb-c2179987edf0",
   "metadata": {},
   "source": [
    "## Demonstration"
   ]
  },
  {
   "cell_type": "markdown",
   "id": "cc3bc50e-58f4-465a-8a67-2253593c0e25",
   "metadata": {},
   "source": [
    "**Load required packages**"
   ]
  },
  {
   "cell_type": "code",
   "execution_count": 1,
   "id": "c1aaf683-fcee-4ea0-a90d-f0e8565d322f",
   "metadata": {},
   "outputs": [],
   "source": [
    "import numpy as np\n",
    "import pandas as pd\n",
    "import seaborn as sns\n",
    "from sklearn import datasets\n",
    "from sklearn import metrics\n",
    "from sklearn.svm import SVC\n",
    "from sklearn.preprocessing import MinMaxScaler\n",
    "from sklearn.model_selection import train_test_split\n",
    "from sklearn.feature_selection import VarianceThreshold\n",
    "from sklearn.feature_selection import SelectKBest, chi2\n",
    "from sklearn.feature_selection import RFE\n",
    "from sklearn.linear_model import LogisticRegression\n",
    "from sklearn.feature_selection import SelectFromModel\n",
    "from sklearn.feature_selection import SequentialFeatureSelector\n",
    "from sklearn.ensemble import RandomForestClassifier"
   ]
  },
  {
   "cell_type": "markdown",
   "id": "6131e19f-d69f-4dec-8b20-b3baa3bdfba2",
   "metadata": {},
   "source": [
    "**Data Preparation**"
   ]
  },
  {
   "cell_type": "code",
   "execution_count": 2,
   "id": "07c9e79e-66cb-4f22-8f65-a01d939d0a03",
   "metadata": {
    "tags": []
   },
   "outputs": [
    {
     "name": "stdout",
     "output_type": "stream",
     "text": [
      ".. _breast_cancer_dataset:\n",
      "\n",
      "Breast cancer wisconsin (diagnostic) dataset\n",
      "--------------------------------------------\n",
      "\n",
      "**Data Set Characteristics:**\n",
      "\n",
      "    :Number of Instances: 569\n",
      "\n",
      "    :Number of Attributes: 30 numeric, predictive attributes and the class\n",
      "\n",
      "    :Attribute Information:\n",
      "        - radius (mean of distances from center to points on the perimeter)\n",
      "        - texture (standard deviation of gray-scale values)\n",
      "        - perimeter\n",
      "        - area\n",
      "        - smoothness (local variation in radius lengths)\n",
      "        - compactness (perimeter^2 / area - 1.0)\n",
      "        - concavity (severity of concave portions of the contour)\n",
      "        - concave points (number of concave portions of the contour)\n",
      "        - symmetry\n",
      "        - fractal dimension (\"coastline approximation\" - 1)\n",
      "\n",
      "        The mean, standard error, and \"worst\" or largest (mean of the three\n",
      "        worst/largest values) of these features were computed for each image,\n",
      "        resulting in 30 features.  For instance, field 0 is Mean Radius, field\n",
      "        10 is Radius SE, field 20 is Worst Radius.\n",
      "\n",
      "        - class:\n",
      "                - WDBC-Malignant\n",
      "                - WDBC-Benign\n",
      "\n",
      "    :Summary Statistics:\n",
      "\n",
      "    ===================================== ====== ======\n",
      "                                           Min    Max\n",
      "    ===================================== ====== ======\n",
      "    radius (mean):                        6.981  28.11\n",
      "    texture (mean):                       9.71   39.28\n",
      "    perimeter (mean):                     43.79  188.5\n",
      "    area (mean):                          143.5  2501.0\n",
      "    smoothness (mean):                    0.053  0.163\n",
      "    compactness (mean):                   0.019  0.345\n",
      "    concavity (mean):                     0.0    0.427\n",
      "    concave points (mean):                0.0    0.201\n",
      "    symmetry (mean):                      0.106  0.304\n",
      "    fractal dimension (mean):             0.05   0.097\n",
      "    radius (standard error):              0.112  2.873\n",
      "    texture (standard error):             0.36   4.885\n",
      "    perimeter (standard error):           0.757  21.98\n",
      "    area (standard error):                6.802  542.2\n",
      "    smoothness (standard error):          0.002  0.031\n",
      "    compactness (standard error):         0.002  0.135\n",
      "    concavity (standard error):           0.0    0.396\n",
      "    concave points (standard error):      0.0    0.053\n",
      "    symmetry (standard error):            0.008  0.079\n",
      "    fractal dimension (standard error):   0.001  0.03\n",
      "    radius (worst):                       7.93   36.04\n",
      "    texture (worst):                      12.02  49.54\n",
      "    perimeter (worst):                    50.41  251.2\n",
      "    area (worst):                         185.2  4254.0\n",
      "    smoothness (worst):                   0.071  0.223\n",
      "    compactness (worst):                  0.027  1.058\n",
      "    concavity (worst):                    0.0    1.252\n",
      "    concave points (worst):               0.0    0.291\n",
      "    symmetry (worst):                     0.156  0.664\n",
      "    fractal dimension (worst):            0.055  0.208\n",
      "    ===================================== ====== ======\n",
      "\n",
      "    :Missing Attribute Values: None\n",
      "\n",
      "    :Class Distribution: 212 - Malignant, 357 - Benign\n",
      "\n",
      "    :Creator:  Dr. William H. Wolberg, W. Nick Street, Olvi L. Mangasarian\n",
      "\n",
      "    :Donor: Nick Street\n",
      "\n",
      "    :Date: November, 1995\n",
      "\n",
      "This is a copy of UCI ML Breast Cancer Wisconsin (Diagnostic) datasets.\n",
      "https://goo.gl/U2Uwz2\n",
      "\n",
      "Features are computed from a digitized image of a fine needle\n",
      "aspirate (FNA) of a breast mass.  They describe\n",
      "characteristics of the cell nuclei present in the image.\n",
      "\n",
      "Separating plane described above was obtained using\n",
      "Multisurface Method-Tree (MSM-T) [K. P. Bennett, \"Decision Tree\n",
      "Construction Via Linear Programming.\" Proceedings of the 4th\n",
      "Midwest Artificial Intelligence and Cognitive Science Society,\n",
      "pp. 97-101, 1992], a classification method which uses linear\n",
      "programming to construct a decision tree.  Relevant features\n",
      "were selected using an exhaustive search in the space of 1-4\n",
      "features and 1-3 separating planes.\n",
      "\n",
      "The actual linear program used to obtain the separating plane\n",
      "in the 3-dimensional space is that described in:\n",
      "[K. P. Bennett and O. L. Mangasarian: \"Robust Linear\n",
      "Programming Discrimination of Two Linearly Inseparable Sets\",\n",
      "Optimization Methods and Software 1, 1992, 23-34].\n",
      "\n",
      "This database is also available through the UW CS ftp server:\n",
      "\n",
      "ftp ftp.cs.wisc.edu\n",
      "cd math-prog/cpo-dataset/machine-learn/WDBC/\n",
      "\n",
      ".. topic:: References\n",
      "\n",
      "   - W.N. Street, W.H. Wolberg and O.L. Mangasarian. Nuclear feature extraction \n",
      "     for breast tumor diagnosis. IS&T/SPIE 1993 International Symposium on \n",
      "     Electronic Imaging: Science and Technology, volume 1905, pages 861-870,\n",
      "     San Jose, CA, 1993.\n",
      "   - O.L. Mangasarian, W.N. Street and W.H. Wolberg. Breast cancer diagnosis and \n",
      "     prognosis via linear programming. Operations Research, 43(4), pages 570-577, \n",
      "     July-August 1995.\n",
      "   - W.H. Wolberg, W.N. Street, and O.L. Mangasarian. Machine learning techniques\n",
      "     to diagnose breast cancer from fine-needle aspirates. Cancer Letters 77 (1994) \n",
      "     163-171.\n"
     ]
    }
   ],
   "source": [
    "cancer = datasets.load_breast_cancer()\n",
    "X, y = cancer.data, cancer.target\n",
    "print(cancer.DESCR)"
   ]
  },
  {
   "cell_type": "code",
   "execution_count": 3,
   "id": "e607ada9-7454-41e2-a939-b2b61cdf4d45",
   "metadata": {},
   "outputs": [],
   "source": [
    "# Plot the scatter plots (takes a long time)\n",
    "df = pd.DataFrame(cancer.data, columns = cancer.feature_names)\n",
    "# sns.pairplot(df)"
   ]
  },
  {
   "cell_type": "markdown",
   "id": "667afda5-0f9a-4238-9b41-3bb48e576df5",
   "metadata": {},
   "source": [
    "![sns_pairplot](breast_cancer_sns_pairplot.png)"
   ]
  },
  {
   "cell_type": "code",
   "execution_count": 4,
   "id": "a620d421-46e7-4c43-ad03-1a06b189c77f",
   "metadata": {},
   "outputs": [
    {
     "data": {
      "text/plain": [
       "<Axes: >"
      ]
     },
     "execution_count": 4,
     "metadata": {},
     "output_type": "execute_result"
    },
    {
     "data": {
      "image/png": "[encoded data removed]",
      "text/plain": [
       "<Figure size 640x480 with 2 Axes>"
      ]
     },
     "metadata": {},
     "output_type": "display_data"
    }
   ],
   "source": [
    "# Plot the correlation matrix using Seaborn's heatmap function\n",
    "corr_matrix = df.corr()\n",
    "sns.heatmap(corr_matrix, cmap='coolwarm')"
   ]
  },
  {
   "cell_type": "code",
   "execution_count": 5,
   "id": "9adbbdb6-ca17-4ed8-a3cd-4498edb8f867",
   "metadata": {
    "tags": []
   },
   "outputs": [
    {
     "name": "stdout",
     "output_type": "stream",
     "text": [
      "[[0.52103744 0.0226581  0.54598853 0.36373277 0.59375282 0.7920373\n",
      "  0.70313964 0.73111332 0.68636364 0.60551811 0.35614702 0.12046941\n",
      "  0.3690336  0.27381126 0.15929565 0.35139844 0.13568182 0.30062512\n",
      "  0.31164518 0.18304244 0.62077552 0.14152452 0.66831017 0.45069799\n",
      "  0.60113584 0.61929156 0.56861022 0.91202749 0.59846245 0.41886396]\n",
      " [0.64314449 0.27257355 0.61578329 0.50159067 0.28987993 0.18176799\n",
      "  0.20360825 0.34875746 0.37979798 0.14132266 0.15643672 0.08258929\n",
      "  0.12444047 0.12565979 0.11938675 0.08132304 0.0469697  0.25383595\n",
      "  0.08453875 0.0911101  0.60690146 0.30357143 0.53981772 0.43521431\n",
      "  0.34755332 0.15456336 0.19297125 0.63917526 0.23358959 0.22287813]\n",
      " [0.60149557 0.3902604  0.59574321 0.44941676 0.51430893 0.4310165\n",
      "  0.46251172 0.63568588 0.50959596 0.21124684 0.22962158 0.09430251\n",
      "  0.18037035 0.16292179 0.15083115 0.2839547  0.09676768 0.38984656\n",
      "  0.20569032 0.12700551 0.55638563 0.36007463 0.50844166 0.37450845\n",
      "  0.48358978 0.38537513 0.35974441 0.83505155 0.40370589 0.21343303]\n",
      " [0.2100904  0.36083869 0.23350149 0.10290562 0.81132075 0.81136127\n",
      "  0.5656045  0.52286282 0.77626263 1.         0.13909107 0.17587518\n",
      "  0.12665504 0.03815479 0.25145324 0.54321507 0.14295455 0.35366547\n",
      "  0.72814769 0.28720479 0.24831021 0.38592751 0.24134668 0.09400806\n",
      "  0.9154725  0.8140117  0.54864217 0.88487973 1.         0.77371114]\n",
      " [0.62989256 0.15657761 0.63098611 0.4892895  0.43035118 0.34789277\n",
      "  0.46391753 0.51838966 0.37828283 0.1868155  0.2338222  0.09306489\n",
      "  0.2205626  0.16368757 0.33235884 0.16791841 0.14363636 0.3570752\n",
      "  0.13617943 0.14579965 0.51974386 0.1239339  0.50694756 0.34157491\n",
      "  0.4373638  0.17241513 0.31948882 0.55841924 0.15750049 0.14259478]]\n"
     ]
    }
   ],
   "source": [
    "# Scale the features\n",
    "scaler = MinMaxScaler(feature_range=(0,1))\n",
    "X_scaled = scaler.fit_transform(X)\n",
    "print(X_scaled[0:5])"
   ]
  },
  {
   "cell_type": "markdown",
   "id": "dc6305b1-397a-45d2-8aa1-a1ce81b3dce9",
   "metadata": {},
   "source": [
    "### Feature Selection"
   ]
  },
  {
   "cell_type": "markdown",
   "id": "141a5fd1-c88c-44a1-80de-d43e0cdbd1e3",
   "metadata": {},
   "source": [
    "* **Variance Threshold:**"
   ]
  },
  {
   "cell_type": "markdown",
   "id": "5490330c-b12b-4fe5-9758-eb45ff0ffc3e",
   "metadata": {},
   "source": [
    "VarianceThreshold is a simple feature selection method that removes all features whose variance does not meet a certain threshold. "
   ]
  },
  {
   "cell_type": "markdown",
   "id": "ee973056-d0c8-4696-94f8-7660895eddb9",
   "metadata": {},
   "source": [
    "* Original Data (Unscaled):\n",
    "In this case, we will use a threshold of 0.5, meaning the column(s) will be dropped if 50% of the values are similar."
   ]
  },
  {
   "cell_type": "code",
   "execution_count": 6,
   "id": "a199a09b-7d17-4643-9fb1-ec7ff50b0fd8",
   "metadata": {},
   "outputs": [
    {
     "name": "stdout",
     "output_type": "stream",
     "text": [
      "[ True  True  True  True False False False False False False False False\n",
      "  True  True False False False False False False  True  True  True  True\n",
      " False False False False False False]\n",
      "Selected Features: ['mean radius' 'mean texture' 'mean perimeter' 'mean area'\n",
      " 'perimeter error' 'area error' 'worst radius' 'worst texture'\n",
      " 'worst perimeter' 'worst area']\n"
     ]
    }
   ],
   "source": [
    "VT_selector = VarianceThreshold(threshold=0.5)\n",
    "VT_selector.fit_transform(X)\n",
    "\n",
    "print(VT_selector.get_support())\n",
    "print(\"Selected Features:\" , cancer.feature_names[VT_selector.get_support()])"
   ]
  },
  {
   "cell_type": "markdown",
   "id": "9eb2ecd3-f492-475c-9a90-1ff15c829b7f",
   "metadata": {},
   "source": [
    "* Scaled Data:\n",
    "Note that an error occured if the threshold is kept the same. Experiment with the threshold value to explore the data."
   ]
  },
  {
   "cell_type": "code",
   "execution_count": 7,
   "id": "4b4b180b-4c6e-4022-9f5d-e6757bae8cdc",
   "metadata": {},
   "outputs": [
    {
     "name": "stdout",
     "output_type": "stream",
     "text": [
      "[ True False  True False False  True  True  True False False False False\n",
      " False False False False False False False False  True  True  True False\n",
      " False False  True  True False False]\n",
      "Selected Features: ['mean radius' 'mean perimeter' 'mean compactness' 'mean concavity'\n",
      " 'mean concave points' 'worst radius' 'worst texture' 'worst perimeter'\n",
      " 'worst concavity' 'worst concave points']\n"
     ]
    }
   ],
   "source": [
    "# Variance Threshold\n",
    "VT_selector = VarianceThreshold(threshold=0.025)\n",
    "VT_selector.fit_transform(X_scaled)\n",
    "\n",
    "print(VT_selector.get_support())\n",
    "print(\"Selected Features:\" , cancer.feature_names[VT_selector.get_support()])"
   ]
  },
  {
   "cell_type": "markdown",
   "id": "6ea71868-dc53-4dae-b0fa-6cb4ad264b7e",
   "metadata": {},
   "source": [
    "* True: High Variance\n",
    "* False: Low Variance"
   ]
  },
  {
   "cell_type": "markdown",
   "id": "d5aca583-d7df-4480-96f5-286fafe8d2ea",
   "metadata": {},
   "source": [
    "This method is useful for removing constant or quasi-constant features, which are unlikely to be informative for the machine learning model."
   ]
  },
  {
   "cell_type": "markdown",
   "id": "c4872a30-d54b-4dbc-859b-e1608bbd2003",
   "metadata": {},
   "source": [
    "* **SelectKBest**"
   ]
  },
  {
   "cell_type": "markdown",
   "id": "7adf1378-2880-49a6-914b-0ed46c72d006",
   "metadata": {},
   "source": [
    "SelectKBest is another simple feature selection method that selects the top k features based on a scoring function. Typically, `r_regression`, `f_regression`, `mutual_info_regression` functions are used for regression, and `chi2`, `f_classif`, `mutual_info_classifIn` functions are used for classification. In this case, we will use the chi-squared test to select the top 10 features:"
   ]
  },
  {
   "cell_type": "code",
   "execution_count": 8,
   "id": "00abb66d-d63c-4980-823a-f178f8b0e5b4",
   "metadata": {},
   "outputs": [
    {
     "name": "stdout",
     "output_type": "stream",
     "text": [
      "Selected Features: ['mean radius' 'mean perimeter' 'mean area' 'mean concavity'\n",
      " 'mean concave points' 'worst radius' 'worst perimeter' 'worst area'\n",
      " 'worst concavity' 'worst concave points']\n"
     ]
    }
   ],
   "source": [
    "KB_selector = SelectKBest(chi2, k=10)\n",
    "KB_selector.fit_transform(X_scaled, y)\n",
    "X_kbest = KB_selector.transform(X_scaled)\n",
    "print(\"Selected Features:\" , cancer.feature_names[KB_selector.get_support()])"
   ]
  },
  {
   "cell_type": "markdown",
   "id": "cb6957b3-bc86-47df-857e-383aa094f29c",
   "metadata": {},
   "source": [
    "Comparing the SVM model performance with 2 sets of input features"
   ]
  },
  {
   "cell_type": "code",
   "execution_count": 9,
   "id": "961f8d8f-9e62-4f9a-97a1-de98a3bae6db",
   "metadata": {},
   "outputs": [
    {
     "name": "stdout",
     "output_type": "stream",
     "text": [
      "Accuracy with 30 input features: 0.9824561403508771\n"
     ]
    }
   ],
   "source": [
    "# Original input dataset\n",
    "X_train, X_test, y_train, y_test = train_test_split(X_scaled, y, test_size=0.3, random_state=103)\n",
    "\n",
    "model_SVC = SVC(kernel='linear')\n",
    "model_SVC.fit(X_train, y_train)\n",
    "y_pred = model_SVC.predict(X_test)\n",
    "accuracy = metrics.accuracy_score(y_test, y_pred)\n",
    "print(\"Accuracy with 30 input features:\", accuracy)"
   ]
  },
  {
   "cell_type": "code",
   "execution_count": 10,
   "id": "b8010345-a1ea-4b55-9e68-4ab0368bd1a8",
   "metadata": {},
   "outputs": [
    {
     "name": "stdout",
     "output_type": "stream",
     "text": [
      "Accuracy with 10 selected input features: 0.9415204678362573\n"
     ]
    }
   ],
   "source": [
    "# Input dataset with selected features\n",
    "\n",
    "# identify index of selected variables\n",
    "index = [0,2,3,6,7,20,22,23,26,27]\n",
    "X_select = X_scaled[:,index]\n",
    "X_train, X_test, y_train, y_test = train_test_split(X_select, y, test_size=0.3, random_state=103)\n",
    "\n",
    "model_SVC = SVC(kernel='linear')\n",
    "model_SVC.fit(X_train, y_train)\n",
    "y_pred = model_SVC.predict(X_test)\n",
    "accuracy = metrics.accuracy_score(y_test, y_pred)\n",
    "print(\"Accuracy with 10 selected input features:\", accuracy)"
   ]
  },
  {
   "cell_type": "markdown",
   "id": "38a45496-8da3-47fd-8102-bd95922ae3c3",
   "metadata": {},
   "source": [
    "Note that using only the 10 selected feature may not always yield better accuracy."
   ]
  },
  {
   "cell_type": "markdown",
   "id": "a45e611b-bb4e-45f1-bb09-ec2f890e8bea",
   "metadata": {},
   "source": [
    "* **Recursive Feature Elimination (RFE)**"
   ]
  },
  {
   "cell_type": "markdown",
   "id": "6db7d8d2-1a93-48bf-aa48-8a4683e17118",
   "metadata": {},
   "source": [
    "Recursive Feature Elimination (RFE) is a feature selection method that recursively removes the least important features until a certain number of features is reached. Supervised learning algorithms with a `fit` method (i.e. provides information about feature importance e.g. coef_, feature_importances_) can be used to set the `estimator` instance. We will experiment with SVM and Logistic Regression."
   ]
  },
  {
   "cell_type": "markdown",
   "id": "95aac673-6b34-4dc3-a85e-b3d6e3025ff5",
   "metadata": {},
   "source": [
    "* SVM"
   ]
  },
  {
   "cell_type": "code",
   "execution_count": 11,
   "id": "1ad1eaab-5d8d-4e0c-91b3-5c43f731fe69",
   "metadata": {},
   "outputs": [
    {
     "name": "stdout",
     "output_type": "stream",
     "text": [
      "Selected Features: ['mean radius' 'mean area' 'mean concave points' 'worst radius'\n",
      " 'worst texture' 'worst perimeter' 'worst area' 'worst smoothness'\n",
      " 'worst concave points' 'worst symmetry']\n"
     ]
    },
    {
     "data": {
      "text/plain": [
       "array([ 1,  3,  4,  1, 13, 12,  5,  1, 11,  8,  2, 17,  7, 10, 14,  6, 18,\n",
       "       19, 20, 15,  1,  1,  1,  1,  1, 21,  9,  1,  1, 16])"
      ]
     },
     "execution_count": 11,
     "metadata": {},
     "output_type": "execute_result"
    }
   ],
   "source": [
    "RFE_estimator = SVC(kernel=\"linear\")\n",
    "RFE_selector = RFE(RFE_estimator, n_features_to_select=10)\n",
    "RFE_selector.fit_transform(X_scaled, y)\n",
    "print(\"Selected Features:\" , cancer.feature_names[RFE_selector.get_support()])\n",
    "\n",
    "# use `ranking_` to retrieve the rank of the features - 1 being the best and selected\n",
    "RFE_selector.ranking_"
   ]
  },
  {
   "cell_type": "code",
   "execution_count": 12,
   "id": "2d07a41c-42ea-44ce-86d7-2fae8b71b6c2",
   "metadata": {},
   "outputs": [
    {
     "name": "stdout",
     "output_type": "stream",
     "text": [
      "SVM accuracy: 0.9824561403508771\n",
      "LR accuracy: 0.9766081871345029\n"
     ]
    }
   ],
   "source": [
    "# ML Performance\n",
    "\n",
    "index = [0,3,7,20,21,22,23,24,27,28]\n",
    "X_select = X_scaled[:,index]\n",
    "X_train, X_test, y_train, y_test = train_test_split(X_select, y, test_size=0.3, random_state=5)\n",
    "\n",
    "# SVM\n",
    "model_SVC = SVC(kernel='linear')\n",
    "model_SVC.fit(X_train, y_train)\n",
    "y_pred = model_SVC.predict(X_test)\n",
    "accuracy = metrics.accuracy_score(y_test, y_pred)\n",
    "print(\"SVM accuracy:\", accuracy)\n",
    "\n",
    "# LR\n",
    "model_LR = LogisticRegression(max_iter=10000)\n",
    "model_LR.fit(X_train, y_train)\n",
    "y_pred = model_LR.predict(X_test)\n",
    "accuracy = metrics.accuracy_score(y_test, y_pred)\n",
    "print(\"LR accuracy:\", accuracy)"
   ]
  },
  {
   "cell_type": "markdown",
   "id": "dcba3262-4fd3-401b-8fa1-c8827d8ce1a7",
   "metadata": {},
   "source": [
    "* Logistic Regression"
   ]
  },
  {
   "cell_type": "code",
   "execution_count": 13,
   "id": "d11f06ac-9f50-467e-8e24-c30065b982a9",
   "metadata": {},
   "outputs": [
    {
     "name": "stdout",
     "output_type": "stream",
     "text": [
      "Selected Features: ['mean radius' 'mean perimeter' 'mean concave points' 'worst radius'\n",
      " 'worst texture' 'worst perimeter' 'worst area' 'worst smoothness'\n",
      " 'worst concavity' 'worst concave points']\n"
     ]
    },
    {
     "data": {
      "text/plain": [
       "array([ 1,  3,  1,  2, 11, 15,  6,  1, 14,  9,  5, 21,  7,  8, 20, 13, 17,\n",
       "       18, 19, 12,  1,  1,  1,  1,  1, 10,  1,  1,  4, 16])"
      ]
     },
     "execution_count": 13,
     "metadata": {},
     "output_type": "execute_result"
    }
   ],
   "source": [
    "RFE_estimator = LogisticRegression(max_iter=10000)\n",
    "RFE_selector = RFE(RFE_estimator, n_features_to_select=10)\n",
    "RFE_selector.fit_transform(X_scaled, y)\n",
    "print(\"Selected Features:\" , cancer.feature_names[RFE_selector.get_support()])\n",
    "RFE_selector.ranking_"
   ]
  },
  {
   "cell_type": "code",
   "execution_count": 14,
   "id": "934e0f76-ca7d-457f-95cc-a1dcfd248e1e",
   "metadata": {},
   "outputs": [
    {
     "name": "stdout",
     "output_type": "stream",
     "text": [
      "LR accuracy: 0.9590643274853801\n",
      "SVM accuracy: 0.9649122807017544\n"
     ]
    }
   ],
   "source": [
    "# ML Performance\n",
    "\n",
    "index = [0,5,6,11,20,24,25,26,27,28]\n",
    "X_select = X_scaled[:,index]\n",
    "X_train, X_test, y_train, y_test = train_test_split(X_select, y, test_size=0.3, random_state=5)\n",
    "\n",
    "# LR\n",
    "model_LR = LogisticRegression(max_iter=10000)\n",
    "model_LR.fit(X_train, y_train)\n",
    "y_pred = model_LR.predict(X_test)\n",
    "accuracy = metrics.accuracy_score(y_test, y_pred)\n",
    "print(\"LR accuracy:\", accuracy)\n",
    "\n",
    "# SVM\n",
    "model_SVC = SVC(kernel='linear')\n",
    "model_SVC.fit(X_train, y_train)\n",
    "y_pred = model_SVC.predict(X_test)\n",
    "accuracy = metrics.accuracy_score(y_test, y_pred)\n",
    "print(\"SVM accuracy:\", accuracy)"
   ]
  },
  {
   "cell_type": "markdown",
   "id": "4a799a7c-9eba-437f-835a-e4cab4ebd2b6",
   "metadata": {},
   "source": [
    "* **SelectFromModel**"
   ]
  },
  {
   "cell_type": "markdown",
   "id": "7f7287c6-d663-4235-a419-b11de0fa9201",
   "metadata": {},
   "source": [
    "SelectFromModel is a feature selection method that selects the features with non-zero coefficients from a specified estimator, which can be both a fitted or a non-fitted estimator, but should have a `_feature_importances_` or `coef_` attribute. We will experiment with the same 2 estimators as in previous examples."
   ]
  },
  {
   "cell_type": "markdown",
   "id": "29ad2053-ec16-41a4-86ad-1c3502542c2a",
   "metadata": {},
   "source": [
    "* Logistics Regression"
   ]
  },
  {
   "cell_type": "code",
   "execution_count": 15,
   "id": "c5b820dd-a8fd-4318-825e-3a44e947757e",
   "metadata": {},
   "outputs": [
    {
     "name": "stdout",
     "output_type": "stream",
     "text": [
      "Selected Features from LR: ['mean radius' 'mean texture' 'mean perimeter' 'mean area'\n",
      " 'mean concave points' 'worst radius' 'worst texture' 'worst perimeter'\n",
      " 'worst area' 'worst concave points']\n"
     ]
    }
   ],
   "source": [
    "# LR\n",
    "\n",
    "SFM_estimator = LogisticRegression(max_iter=10000)\n",
    "SFM_selector = SelectFromModel(SFM_estimator, max_features=10)\n",
    "SFM_selector.fit_transform(X_scaled, y)\n",
    "# SFM_selector.fit_transform(X, y)\n",
    "print(\"Selected Features from LR:\" , cancer.feature_names[SFM_selector.get_support()])"
   ]
  },
  {
   "cell_type": "markdown",
   "id": "17e9f8c0-87ab-4d6c-aff0-16f8b644b8b7",
   "metadata": {},
   "source": [
    "Compare selected features from Recursive Feature Elimination (RFE) using LR"
   ]
  },
  {
   "cell_type": "code",
   "execution_count": 16,
   "id": "03d26277-e034-4d68-994a-d38768a6e629",
   "metadata": {},
   "outputs": [
    {
     "name": "stdout",
     "output_type": "stream",
     "text": [
      "Selected Features from LR: ['mean radius' 'mean perimeter' 'mean concave points' 'worst radius'\n",
      " 'worst texture' 'worst perimeter' 'worst area' 'worst smoothness'\n",
      " 'worst concavity' 'worst concave points']\n"
     ]
    }
   ],
   "source": [
    "# Compare with RFE using LR\n",
    "print(\"Selected Features from LR:\" , cancer.feature_names[RFE_selector.get_support()])"
   ]
  },
  {
   "cell_type": "markdown",
   "id": "a3f6216f-d070-43d4-9bdc-b94d131b5e7f",
   "metadata": {},
   "source": [
    "* SVM"
   ]
  },
  {
   "cell_type": "code",
   "execution_count": 17,
   "id": "2b898f3a-b2ab-4dd4-b985-2e59806f942a",
   "metadata": {},
   "outputs": [
    {
     "name": "stdout",
     "output_type": "stream",
     "text": [
      "Selected Features from SVM:\n"
     ]
    },
    {
     "data": {
      "text/plain": [
       "array(['mean radius', 'mean concavity', 'mean concave points',\n",
       "       'texture error', 'perimeter error', 'worst smoothness',\n",
       "       'worst compactness', 'worst concavity', 'worst concave points',\n",
       "       'worst symmetry'], dtype=object)"
      ]
     },
     "execution_count": 17,
     "metadata": {},
     "output_type": "execute_result"
    }
   ],
   "source": [
    "SFM_estimator = SVC(kernel=\"linear\")\n",
    "SFM_selector = SelectFromModel(SFM_estimator, max_features=10)\n",
    "SFM_selector.fit_transform(X_scaled, y)\n",
    "SFM_selector.fit_transform(X, y)\n",
    "print(\"Selected Features from SVM:\")\n",
    "SFM_selector.get_feature_names_out(cancer.feature_names)"
   ]
  },
  {
   "cell_type": "markdown",
   "id": "b6b6f761-1f5e-468d-a538-ca7dfc2151d3",
   "metadata": {},
   "source": [
    "* Compare ML Performance"
   ]
  },
  {
   "cell_type": "code",
   "execution_count": 18,
   "id": "59abeb72-e916-4bfb-b033-0c1db143ecc7",
   "metadata": {},
   "outputs": [
    {
     "name": "stdout",
     "output_type": "stream",
     "text": [
      "LR model with LR feature selection accuracy: 0.9824561403508771\n",
      "SVM model with LR feature selection  accuracy: 0.9824561403508771\n",
      "SVM model with SVM feature selection accuracy: 0.9473684210526315\n",
      "LR model with SVM feature selection accuracy: 0.9532163742690059\n"
     ]
    }
   ],
   "source": [
    "# Comparing ML Performance\n",
    "\n",
    "index_LR = [0,1,2,3,7,20,21,22,23,27]\n",
    "index_SVM = [0,6,7,11,12,24,25,26,27,28]\n",
    "X_select_LR = X_scaled[:,index_LR]\n",
    "X_select_SVM = X_scaled[:,index_SVM]\n",
    "# print(X_select[0:5])\n",
    "X_train_LR, X_test_LR, y_train_LR, y_test_LR = train_test_split(X_select_LR, y, test_size=0.3, random_state=5)\n",
    "X_train_SVM, X_test_SVM, y_train_SVM, y_test_SVM = train_test_split(X_select_SVM, y, test_size=0.3, random_state=5)\n",
    "\n",
    "model_LR_LR = LogisticRegression(max_iter=10000)\n",
    "model_LR_LR.fit(X_train_LR, y_train_LR)\n",
    "y_pred_LR_LR = model_LR_LR.predict(X_test_LR)\n",
    "accuracy = metrics.accuracy_score(y_test_LR, y_pred_LR_LR)\n",
    "print(\"LR model with LR feature selection accuracy:\", accuracy)\n",
    "\n",
    "model_SVM_LR = SVC(kernel='linear')\n",
    "model_SVM_LR.fit(X_train_LR, y_train_LR)\n",
    "y_pred_SVM_LR = model_SVM_LR.predict(X_test_LR)\n",
    "accuracy = metrics.accuracy_score(y_test_LR, y_pred_SVM_LR)\n",
    "print(\"SVM model with LR feature selection  accuracy:\", accuracy)\n",
    "\n",
    "model_LR_SVM = LogisticRegression(max_iter=10000)\n",
    "model_LR_SVM.fit(X_train_SVM, y_train_SVM)\n",
    "y_pred_LR_SVM = model_LR_SVM.predict(X_test_SVM)\n",
    "accuracy = metrics.accuracy_score(y_test_SVM, y_pred_LR_SVM)\n",
    "print(\"SVM model with SVM feature selection accuracy:\", accuracy)\n",
    "\n",
    "model_SVM_SVM = SVC(kernel='linear')\n",
    "model_SVM_SVM.fit(X_train_SVM, y_train_SVM)\n",
    "y_pred_SVM_SVM = model_SVM_SVM.predict(X_test_SVM)\n",
    "accuracy = metrics.accuracy_score(y_test_SVM, y_pred_SVM_SVM)\n",
    "print(\"LR model with SVM feature selection accuracy:\", accuracy)"
   ]
  },
  {
   "cell_type": "markdown",
   "id": "4c39363a-28ad-459c-a88f-eb0ea2093526",
   "metadata": {},
   "source": [
    "* **Sequential Feature Selector**"
   ]
  },
  {
   "cell_type": "markdown",
   "id": "53f158cd-8f77-4792-b765-5630622c9fd1",
   "metadata": {},
   "source": [
    "Sequential Feature Selector is a greedy feature selection method that selects features in a forward or backward manner. In this case, we will use SequentialFeatureSelector with a random forest classifier estimator to select the top 10 features:"
   ]
  },
  {
   "cell_type": "code",
   "execution_count": 19,
   "id": "d470f30b-b621-43f7-92f1-a5f73106abef",
   "metadata": {},
   "outputs": [
    {
     "name": "stdout",
     "output_type": "stream",
     "text": [
      "Selected Features: ['mean texture' 'mean area' 'smoothness error' 'symmetry error'\n",
      " 'worst radius' 'worst texture' 'worst perimeter' 'worst smoothness'\n",
      " 'worst concavity' 'worst fractal dimension']\n"
     ]
    }
   ],
   "source": [
    "SFS_estimator = RandomForestClassifier(n_estimators=100, random_state=42)\n",
    "SFS_selector = SequentialFeatureSelector(SFS_estimator, n_features_to_select=10, direction='forward')\n",
    "SFS_selector.fit_transform(X_scaled, y)\n",
    "\n",
    "print(\"Selected Features:\" , cancer.feature_names[SFS_selector.get_support()])"
   ]
  },
  {
   "cell_type": "markdown",
   "id": "386faf7b-1d6c-4d23-95ee-2c35afe9c6df",
   "metadata": {},
   "source": [
    "### Feature Selection as part of a Pipeline"
   ]
  },
  {
   "cell_type": "markdown",
   "id": "ca1af34c-366c-4266-ae61-0adfa3a13633",
   "metadata": {},
   "source": [
    "The purpose of a pipeline is to assemble several steps while setting different parameters. In the following example, feature scaling, selection, and classification steps are fed into the pipeline and ran all at once."
   ]
  },
  {
   "cell_type": "code",
   "execution_count": 20,
   "id": "647920a0-806e-4aca-bb60-0027284a9b1f",
   "metadata": {},
   "outputs": [
    {
     "data": {
      "text/plain": [
       "0.9824561403508771"
      ]
     },
     "execution_count": 20,
     "metadata": {},
     "output_type": "execute_result"
    }
   ],
   "source": [
    "from sklearn.pipeline import Pipeline\n",
    "X_train, X_test, y_train, y_test = train_test_split(X, y, test_size=0.3, random_state=103)\n",
    "\n",
    "clf = Pipeline([\n",
    "  ('scaler', MinMaxScaler(feature_range=(0,1))),\n",
    "  ('feature_selection', SelectFromModel(SVC(kernel=\"linear\"))),\n",
    "  ('classification', SVC())\n",
    "])\n",
    "clf.fit(X_train, y_train)\n",
    "clf.score(X_test, y_test)"
   ]
  },
  {
   "cell_type": "markdown",
   "id": "c0bc1d82-dada-4ee0-91e2-2ccfaf08a2d6",
   "metadata": {},
   "source": [
    "Without Feature Selection:"
   ]
  },
  {
   "cell_type": "code",
   "execution_count": 21,
   "id": "dd5f3c5d-2a2d-4329-9111-b8f6e89e360d",
   "metadata": {},
   "outputs": [
    {
     "data": {
      "text/plain": [
       "0.9766081871345029"
      ]
     },
     "execution_count": 21,
     "metadata": {},
     "output_type": "execute_result"
    }
   ],
   "source": [
    "clf1 = Pipeline([\n",
    "  ('scaler', MinMaxScaler(feature_range=(0,1))),\n",
    "  ('classification', SVC())\n",
    "])\n",
    "clf1.fit(X_train, y_train)\n",
    "clf1.score(X_test, y_test)"
   ]
  },
  {
   "cell_type": "markdown",
   "id": "30694308-16f5-4519-9938-c1ce3dbe2b3c",
   "metadata": {},
   "source": [
    "## Summary"
   ]
  },
  {
   "cell_type": "markdown",
   "id": "07d773ae-3bda-49d8-b79b-03206d691ac0",
   "metadata": {},
   "source": [
    "When working with a dataset with multiple dimensions / variables, feature selection can help achieve a balance between accuracy and processing effort. As seen in several examples above, using selected features in current settings may not always yield the best accuracy. Depending on the goal for the model, fine-tuning the feature selection parameters (e.g. number of features, thresholds, estimators) may be necessary to determine the best model performance. "
   ]
  },
  {
   "cell_type": "markdown",
   "id": "2569e039-783c-45d8-abcf-7290bd8c5ca3",
   "metadata": {},
   "source": [
    "## References:"
   ]
  },
  {
   "cell_type": "markdown",
   "id": "835f4f3e-4f46-4881-ae14-8d743804ac82",
   "metadata": {},
   "source": [
    "* https://scikit-learn.org/stable/modules/feature_selection.html\n",
    "* https://towardsdatascience.com/5-feature-selection-method-from-scikit-learn-you-should-know-ed4d116e4172\n",
    "* https://www.datacamp.com/tutorial/feature-selection-python\n",
    "* https://machinelearningmastery.com/feature-selection-in-python-with-scikit-learn/\n",
    "* https://medium.com/nerd-for-tech/removing-constant-variables-feature-selection-463e2d6a30d9"
   ]
  }
 ],
 "metadata": {
  "kernelspec": {
   "display_name": "Python 3 (ipykernel)",
   "language": "python",
   "name": "python3"
  },
  "language_info": {
   "codemirror_mode": {
    "name": "ipython",
    "version": 3
   },
   "file_extension": ".py",
   "mimetype": "text/x-python",
   "name": "python",
   "nbconvert_exporter": "python",
   "pygments_lexer": "ipython3",
   "version": "3.9.16"
  }
 },
 "nbformat": 4,
 "nbformat_minor": 5
}
